{
 "cells": [
  {
   "cell_type": "markdown",
   "metadata": {},
   "source": [
    "# Data Science 301 Final Project\n",
    "Anyesha Ray and Eric Gleiter"
   ]
  },
  {
   "cell_type": "markdown",
   "metadata": {},
   "source": [
    "### Loading data"
   ]
  },
  {
   "cell_type": "code",
   "execution_count": 1,
   "metadata": {},
   "outputs": [],
   "source": [
    "import numpy as np\n",
    "import pandas as pd\n",
    "import matplotlib.pyplot as plt\n",
    "import seaborn as sns"
   ]
  },
  {
   "cell_type": "code",
   "execution_count": 2,
   "metadata": {},
   "outputs": [
    {
     "data": {
      "text/html": [
       "<div>\n",
       "<style scoped>\n",
       "    .dataframe tbody tr th:only-of-type {\n",
       "        vertical-align: middle;\n",
       "    }\n",
       "\n",
       "    .dataframe tbody tr th {\n",
       "        vertical-align: top;\n",
       "    }\n",
       "\n",
       "    .dataframe thead th {\n",
       "        text-align: right;\n",
       "    }\n",
       "</style>\n",
       "<table border=\"1\" class=\"dataframe\">\n",
       "  <thead>\n",
       "    <tr style=\"text-align: right;\">\n",
       "      <th></th>\n",
       "      <th>id</th>\n",
       "      <th>url</th>\n",
       "      <th>region</th>\n",
       "      <th>region_url</th>\n",
       "      <th>price</th>\n",
       "      <th>year</th>\n",
       "      <th>manufacturer</th>\n",
       "      <th>model</th>\n",
       "      <th>condition</th>\n",
       "      <th>cylinders</th>\n",
       "      <th>...</th>\n",
       "      <th>drive</th>\n",
       "      <th>size</th>\n",
       "      <th>type</th>\n",
       "      <th>paint_color</th>\n",
       "      <th>image_url</th>\n",
       "      <th>description</th>\n",
       "      <th>county</th>\n",
       "      <th>state</th>\n",
       "      <th>lat</th>\n",
       "      <th>long</th>\n",
       "    </tr>\n",
       "  </thead>\n",
       "  <tbody>\n",
       "    <tr>\n",
       "      <th>0</th>\n",
       "      <td>7184791621</td>\n",
       "      <td>https://duluth.craigslist.org/ctd/d/duluth-200...</td>\n",
       "      <td>duluth / superior</td>\n",
       "      <td>https://duluth.craigslist.org</td>\n",
       "      <td>6995</td>\n",
       "      <td>2000.0</td>\n",
       "      <td>gmc</td>\n",
       "      <td>new sierra 1500</td>\n",
       "      <td>excellent</td>\n",
       "      <td>8 cylinders</td>\n",
       "      <td>...</td>\n",
       "      <td>4wd</td>\n",
       "      <td>NaN</td>\n",
       "      <td>NaN</td>\n",
       "      <td>red</td>\n",
       "      <td>https://images.craigslist.org/00n0n_f06ykBMcdh...</td>\n",
       "      <td>2000 *** GMC New Sierra 1500 Ext Cab 157.5  WB...</td>\n",
       "      <td>NaN</td>\n",
       "      <td>mn</td>\n",
       "      <td>46.8433</td>\n",
       "      <td>-92.2550</td>\n",
       "    </tr>\n",
       "    <tr>\n",
       "      <th>1</th>\n",
       "      <td>7184773187</td>\n",
       "      <td>https://duluth.craigslist.org/cto/d/saginaw-20...</td>\n",
       "      <td>duluth / superior</td>\n",
       "      <td>https://duluth.craigslist.org</td>\n",
       "      <td>8750</td>\n",
       "      <td>2013.0</td>\n",
       "      <td>hyundai</td>\n",
       "      <td>sonata</td>\n",
       "      <td>excellent</td>\n",
       "      <td>4 cylinders</td>\n",
       "      <td>...</td>\n",
       "      <td>fwd</td>\n",
       "      <td>NaN</td>\n",
       "      <td>NaN</td>\n",
       "      <td>grey</td>\n",
       "      <td>https://images.craigslist.org/00d0d_kgZ6xoeRw2...</td>\n",
       "      <td>For Sale:  2013 Hyundai Sonata GLS - $8750.  O...</td>\n",
       "      <td>NaN</td>\n",
       "      <td>mn</td>\n",
       "      <td>46.9074</td>\n",
       "      <td>-92.4638</td>\n",
       "    </tr>\n",
       "    <tr>\n",
       "      <th>2</th>\n",
       "      <td>7193375964</td>\n",
       "      <td>https://newhaven.craigslist.org/cto/d/stratfor...</td>\n",
       "      <td>new haven</td>\n",
       "      <td>https://newhaven.craigslist.org</td>\n",
       "      <td>10900</td>\n",
       "      <td>2013.0</td>\n",
       "      <td>toyota</td>\n",
       "      <td>prius</td>\n",
       "      <td>good</td>\n",
       "      <td>4 cylinders</td>\n",
       "      <td>...</td>\n",
       "      <td>fwd</td>\n",
       "      <td>NaN</td>\n",
       "      <td>NaN</td>\n",
       "      <td>blue</td>\n",
       "      <td>https://images.craigslist.org/00d0d_3sHGxPbY2O...</td>\n",
       "      <td>2013 Prius V Model Two. One owner—must sell my...</td>\n",
       "      <td>NaN</td>\n",
       "      <td>ct</td>\n",
       "      <td>41.1770</td>\n",
       "      <td>-73.1336</td>\n",
       "    </tr>\n",
       "    <tr>\n",
       "      <th>3</th>\n",
       "      <td>7195108810</td>\n",
       "      <td>https://albuquerque.craigslist.org/cto/d/albuq...</td>\n",
       "      <td>albuquerque</td>\n",
       "      <td>https://albuquerque.craigslist.org</td>\n",
       "      <td>12500</td>\n",
       "      <td>2003.0</td>\n",
       "      <td>mitsubishi</td>\n",
       "      <td>lancer</td>\n",
       "      <td>good</td>\n",
       "      <td>4 cylinders</td>\n",
       "      <td>...</td>\n",
       "      <td>4wd</td>\n",
       "      <td>mid-size</td>\n",
       "      <td>sedan</td>\n",
       "      <td>grey</td>\n",
       "      <td>https://images.craigslist.org/00m0m_4a8Pb6JbMG...</td>\n",
       "      <td>2003 Mitsubishi Lancer Evolution, silver.  Abo...</td>\n",
       "      <td>NaN</td>\n",
       "      <td>nm</td>\n",
       "      <td>35.1868</td>\n",
       "      <td>-106.6650</td>\n",
       "    </tr>\n",
       "    <tr>\n",
       "      <th>4</th>\n",
       "      <td>7184712241</td>\n",
       "      <td>https://duluth.craigslist.org/ctd/d/rush-city-...</td>\n",
       "      <td>duluth / superior</td>\n",
       "      <td>https://duluth.craigslist.org</td>\n",
       "      <td>16995</td>\n",
       "      <td>2007.0</td>\n",
       "      <td>gmc</td>\n",
       "      <td>sierra classic 2500hd</td>\n",
       "      <td>good</td>\n",
       "      <td>8 cylinders</td>\n",
       "      <td>...</td>\n",
       "      <td>4wd</td>\n",
       "      <td>full-size</td>\n",
       "      <td>truck</td>\n",
       "      <td>white</td>\n",
       "      <td>https://images.craigslist.org/01414_g093aPtSMW...</td>\n",
       "      <td>**Bad Credit, No Credit... No Problem!**2007 G...</td>\n",
       "      <td>NaN</td>\n",
       "      <td>mn</td>\n",
       "      <td>45.6836</td>\n",
       "      <td>-92.9648</td>\n",
       "    </tr>\n",
       "  </tbody>\n",
       "</table>\n",
       "<p>5 rows × 25 columns</p>\n",
       "</div>"
      ],
      "text/plain": [
       "           id                                                url  \\\n",
       "0  7184791621  https://duluth.craigslist.org/ctd/d/duluth-200...   \n",
       "1  7184773187  https://duluth.craigslist.org/cto/d/saginaw-20...   \n",
       "2  7193375964  https://newhaven.craigslist.org/cto/d/stratfor...   \n",
       "3  7195108810  https://albuquerque.craigslist.org/cto/d/albuq...   \n",
       "4  7184712241  https://duluth.craigslist.org/ctd/d/rush-city-...   \n",
       "\n",
       "              region                          region_url  price    year  \\\n",
       "0  duluth / superior       https://duluth.craigslist.org   6995  2000.0   \n",
       "1  duluth / superior       https://duluth.craigslist.org   8750  2013.0   \n",
       "2          new haven     https://newhaven.craigslist.org  10900  2013.0   \n",
       "3        albuquerque  https://albuquerque.craigslist.org  12500  2003.0   \n",
       "4  duluth / superior       https://duluth.craigslist.org  16995  2007.0   \n",
       "\n",
       "  manufacturer                  model  condition    cylinders  ... drive  \\\n",
       "0          gmc        new sierra 1500  excellent  8 cylinders  ...   4wd   \n",
       "1      hyundai                 sonata  excellent  4 cylinders  ...   fwd   \n",
       "2       toyota                  prius       good  4 cylinders  ...   fwd   \n",
       "3   mitsubishi                 lancer       good  4 cylinders  ...   4wd   \n",
       "4          gmc  sierra classic 2500hd       good  8 cylinders  ...   4wd   \n",
       "\n",
       "        size   type paint_color  \\\n",
       "0        NaN    NaN         red   \n",
       "1        NaN    NaN        grey   \n",
       "2        NaN    NaN        blue   \n",
       "3   mid-size  sedan        grey   \n",
       "4  full-size  truck       white   \n",
       "\n",
       "                                           image_url  \\\n",
       "0  https://images.craigslist.org/00n0n_f06ykBMcdh...   \n",
       "1  https://images.craigslist.org/00d0d_kgZ6xoeRw2...   \n",
       "2  https://images.craigslist.org/00d0d_3sHGxPbY2O...   \n",
       "3  https://images.craigslist.org/00m0m_4a8Pb6JbMG...   \n",
       "4  https://images.craigslist.org/01414_g093aPtSMW...   \n",
       "\n",
       "                                         description county state      lat  \\\n",
       "0  2000 *** GMC New Sierra 1500 Ext Cab 157.5  WB...    NaN    mn  46.8433   \n",
       "1  For Sale:  2013 Hyundai Sonata GLS - $8750.  O...    NaN    mn  46.9074   \n",
       "2  2013 Prius V Model Two. One owner—must sell my...    NaN    ct  41.1770   \n",
       "3  2003 Mitsubishi Lancer Evolution, silver.  Abo...    NaN    nm  35.1868   \n",
       "4  **Bad Credit, No Credit... No Problem!**2007 G...    NaN    mn  45.6836   \n",
       "\n",
       "       long  \n",
       "0  -92.2550  \n",
       "1  -92.4638  \n",
       "2  -73.1336  \n",
       "3 -106.6650  \n",
       "4  -92.9648  \n",
       "\n",
       "[5 rows x 25 columns]"
      ]
     },
     "execution_count": 2,
     "metadata": {},
     "output_type": "execute_result"
    }
   ],
   "source": [
    "data = pd.read_csv(\"vehicles.csv\")\n",
    "data.head()"
   ]
  },
  {
   "cell_type": "code",
   "execution_count": 3,
   "metadata": {},
   "outputs": [
    {
     "data": {
      "text/plain": [
       "(423857, 25)"
      ]
     },
     "execution_count": 3,
     "metadata": {},
     "output_type": "execute_result"
    }
   ],
   "source": [
    "data.shape"
   ]
  },
  {
   "cell_type": "code",
   "execution_count": 4,
   "metadata": {},
   "outputs": [
    {
     "data": {
      "text/plain": [
       "Index(['id', 'url', 'region', 'region_url', 'price', 'year', 'manufacturer',\n",
       "       'model', 'condition', 'cylinders', 'fuel', 'odometer', 'title_status',\n",
       "       'transmission', 'vin', 'drive', 'size', 'type', 'paint_color',\n",
       "       'image_url', 'description', 'county', 'state', 'lat', 'long'],\n",
       "      dtype='object')"
      ]
     },
     "execution_count": 4,
     "metadata": {},
     "output_type": "execute_result"
    }
   ],
   "source": [
    "data.columns"
   ]
  },
  {
   "cell_type": "markdown",
   "metadata": {},
   "source": [
    "### Variables we are interested in"
   ]
  },
  {
   "cell_type": "markdown",
   "metadata": {},
   "source": [
    "Year"
   ]
  },
  {
   "cell_type": "code",
   "execution_count": 5,
   "metadata": {},
   "outputs": [
    {
     "name": "stdout",
     "output_type": "stream",
     "text": [
      "2017.0    30828\n",
      "2015.0    21901\n",
      "2014.0    21773\n",
      "2013.0    21480\n",
      "2016.0    21430\n",
      "2012.0    19130\n",
      "2011.0    18412\n",
      "2018.0    17839\n",
      "2019.0    16995\n",
      "2008.0    16070\n",
      "Name: year, dtype: int64\n"
     ]
    }
   ],
   "source": [
    "print (data['year'].value_counts().iloc[:10])"
   ]
  },
  {
   "cell_type": "code",
   "execution_count": 6,
   "metadata": {},
   "outputs": [
    {
     "data": {
      "text/plain": [
       "Text(0.5, 1.0, 'Number of Cars sold vs Year of the Car')"
      ]
     },
     "execution_count": 6,
     "metadata": {},
     "output_type": "execute_result"
    },
    {
     "data": {
      "image/png": "[encoded data removed]",
      "text/plain": [
       "<Figure size 720x432 with 1 Axes>"
      ]
     },
     "metadata": {
      "needs_background": "light"
     },
     "output_type": "display_data"
    }
   ],
   "source": [
    "plt.figure(figsize=(10,6))\n",
    "ax = sns.countplot(x='year',data=data);\n",
    "ax.set_xticklabels(ax.get_xticklabels(), rotation=90, ha=\"right\",fontsize=8);\n",
    "plt.title(\"Number of Cars sold vs Year of the Car\")"
   ]
  },
  {
   "cell_type": "markdown",
   "metadata": {},
   "source": [
    " It seems that the car sales grew to large numbers during the 1960s. Doesn't really make sense to have cars before 1960."
   ]
  },
  {
   "cell_type": "code",
   "execution_count": 7,
   "metadata": {},
   "outputs": [],
   "source": [
    "data.drop(data[data.year < 1960].index, inplace = True)"
   ]
  },
  {
   "cell_type": "code",
   "execution_count": 8,
   "metadata": {},
   "outputs": [
    {
     "data": {
      "image/png": "[encoded data removed]",
      "text/plain": [
       "<Figure size 720x432 with 1 Axes>"
      ]
     },
     "metadata": {
      "needs_background": "light"
     },
     "output_type": "display_data"
    }
   ],
   "source": [
    "plt.figure(figsize=(10,6))\n",
    "ax = sns.countplot(x='year',data=data);\n",
    "ax.set_xticklabels(ax.get_xticklabels(), rotation=90, ha=\"right\",fontsize=7);"
   ]
  },
  {
   "cell_type": "markdown",
   "metadata": {},
   "source": [
    "Manufacturer"
   ]
  },
  {
   "cell_type": "code",
   "execution_count": 9,
   "metadata": {},
   "outputs": [
    {
     "name": "stdout",
     "output_type": "stream",
     "text": [
      "The unique manufacturers we have are:\n",
      "['gmc' 'hyundai' 'toyota' 'mitsubishi' 'ford' 'chevrolet' 'ram' nan\n",
      " 'buick' 'jeep' 'dodge' 'subaru' 'nissan' 'audi' 'rover' 'lexus' 'honda'\n",
      " 'chrysler' 'mini' 'pontiac' 'mercedes-benz' 'cadillac' 'bmw' 'kia'\n",
      " 'volvo' 'volkswagen' 'jaguar' 'acura' 'saturn' 'mazda' 'mercury'\n",
      " 'lincoln' 'infiniti' 'ferrari' 'fiat' 'tesla' 'land rover'\n",
      " 'harley-davidson' 'datsun' 'alfa-romeo' 'aston-martin' 'porche'\n",
      " 'hennessey' 'morgan']\n"
     ]
    }
   ],
   "source": [
    "print (\"The unique manufacturers we have are:\")\n",
    "print (data['manufacturer'].unique())"
   ]
  },
  {
   "cell_type": "code",
   "execution_count": 10,
   "metadata": {},
   "outputs": [
    {
     "data": {
      "text/plain": [
       "Text(0.5, 1.0, 'Manufacturers vs no. of listings')"
      ]
     },
     "execution_count": 10,
     "metadata": {},
     "output_type": "execute_result"
    },
    {
     "data": {
      "image/png": "[encoded data removed]",
      "text/plain": [
       "<Figure size 720x432 with 1 Axes>"
      ]
     },
     "metadata": {
      "needs_background": "light"
     },
     "output_type": "display_data"
    }
   ],
   "source": [
    "plt.figure(figsize=(10,6))\n",
    "ax = sns.countplot(x='manufacturer',data=data);\n",
    "ax.set_xticklabels(ax.get_xticklabels(), rotation=90, ha=\"right\",fontsize=8);\n",
    "plt.title(\"Manufacturers vs no. of listings\")"
   ]
  },
  {
   "cell_type": "markdown",
   "metadata": {},
   "source": [
    "Model"
   ]
  },
  {
   "cell_type": "code",
   "execution_count": 11,
   "metadata": {},
   "outputs": [
    {
     "name": "stdout",
     "output_type": "stream",
     "text": [
      "The unique models we have are:\n",
      "['new sierra 1500' 'sonata' 'prius' ... '1990 F350' 'ranchero gt cobra'\n",
      " 'Studebaker GT Hawk Torisimo']\n",
      "26326\n"
     ]
    }
   ],
   "source": [
    "print (\"The unique models we have are:\")\n",
    "print (data['model'].unique())\n",
    "print (len(data['model'].unique()))"
   ]
  },
  {
   "cell_type": "markdown",
   "metadata": {},
   "source": [
    "Drive"
   ]
  },
  {
   "cell_type": "code",
   "execution_count": 12,
   "metadata": {},
   "outputs": [
    {
     "name": "stdout",
     "output_type": "stream",
     "text": [
      "The unique drives we have are:\n",
      "['4wd' 'fwd' 'rwd' nan]\n"
     ]
    }
   ],
   "source": [
    "print (\"The unique drives we have are:\")\n",
    "print (data['drive'].unique())"
   ]
  },
  {
   "cell_type": "markdown",
   "metadata": {},
   "source": [
    "Condition"
   ]
  },
  {
   "cell_type": "code",
   "execution_count": 13,
   "metadata": {},
   "outputs": [
    {
     "data": {
      "image/png": "[encoded data removed]",
      "text/plain": [
       "<Figure size 432x288 with 1 Axes>"
      ]
     },
     "metadata": {
      "needs_background": "light"
     },
     "output_type": "display_data"
    }
   ],
   "source": [
    "data.condition.value_counts().plot.bar()\n",
    "plt.title(\"Condition of the vehicles\")\n",
    "plt.show()"
   ]
  },
  {
   "cell_type": "markdown",
   "metadata": {},
   "source": [
    "Status"
   ]
  },
  {
   "cell_type": "code",
   "execution_count": 14,
   "metadata": {},
   "outputs": [
    {
     "data": {
      "image/png": "[encoded data removed]",
      "text/plain": [
       "<Figure size 432x288 with 1 Axes>"
      ]
     },
     "metadata": {
      "needs_background": "light"
     },
     "output_type": "display_data"
    }
   ],
   "source": [
    "data.title_status.value_counts().plot.bar()\n",
    "plt.title(\"Status of the vehicles\")\n",
    "plt.show()"
   ]
  },
  {
   "cell_type": "markdown",
   "metadata": {},
   "source": [
    "Price"
   ]
  },
  {
   "cell_type": "code",
   "execution_count": 15,
   "metadata": {},
   "outputs": [
    {
     "data": {
      "text/plain": [
       "count    4.214340e+05\n",
       "mean     5.013835e+04\n",
       "std      9.727504e+06\n",
       "min      0.000000e+00\n",
       "25%      4.495000e+03\n",
       "50%      9.995000e+03\n",
       "75%      1.899500e+04\n",
       "max      3.808256e+09\n",
       "Name: price, dtype: float64"
      ]
     },
     "execution_count": 15,
     "metadata": {},
     "output_type": "execute_result"
    }
   ],
   "source": [
    "data['price'].describe()"
   ]
  },
  {
   "cell_type": "code",
   "execution_count": 16,
   "metadata": {},
   "outputs": [
    {
     "data": {
      "text/plain": [
       "Text(0, 0.5, 'Count')"
      ]
     },
     "execution_count": 16,
     "metadata": {},
     "output_type": "execute_result"
    },
    {
     "data": {
      "image/png": "[encoded data removed]",
      "text/plain": [
       "<Figure size 432x288 with 1 Axes>"
      ]
     },
     "metadata": {
      "needs_background": "light"
     },
     "output_type": "display_data"
    }
   ],
   "source": [
    "data['price'].hist()\n",
    "plt.xlabel('Price')\n",
    "plt.ylabel('Count')"
   ]
  },
  {
   "cell_type": "code",
   "execution_count": 17,
   "metadata": {},
   "outputs": [
    {
     "data": {
      "text/plain": [
       "0       34947\n",
       "3500     3827\n",
       "8995     3589\n",
       "7995     3536\n",
       "6995     3456\n",
       "Name: price, dtype: int64"
      ]
     },
     "execution_count": 17,
     "metadata": {},
     "output_type": "execute_result"
    }
   ],
   "source": [
    "data['price'].value_counts().head()"
   ]
  },
  {
   "cell_type": "markdown",
   "metadata": {},
   "source": [
    "Looks like there are a lot of prices at 0. This most likely means they were posted at \"best offer\". Since looking through description would make it too complicated, I just dropped them. There are only 35,000 values at 0, which sounds like a lot, but isn't that many out of 423,857. Also we would not be able to predict those entries anyways.\n"
   ]
  },
  {
   "cell_type": "code",
   "execution_count": 18,
   "metadata": {},
   "outputs": [],
   "source": [
    "data= data[data['price'] > 0]"
   ]
  },
  {
   "cell_type": "code",
   "execution_count": 19,
   "metadata": {},
   "outputs": [
    {
     "data": {
      "text/plain": [
       "(386487, 25)"
      ]
     },
     "execution_count": 19,
     "metadata": {},
     "output_type": "execute_result"
    }
   ],
   "source": [
    "data.shape"
   ]
  },
  {
   "cell_type": "markdown",
   "metadata": {},
   "source": [
    "### Missing Values"
   ]
  },
  {
   "cell_type": "markdown",
   "metadata": {},
   "source": [
    "Won't need variables like 'url', 'region_url', 'image_url', 'description', 'county', 'state', 'lat', 'long' so I got rid of them right away."
   ]
  },
  {
   "cell_type": "code",
   "execution_count": 20,
   "metadata": {},
   "outputs": [
    {
     "data": {
      "text/html": [
       "<div>\n",
       "<style scoped>\n",
       "    .dataframe tbody tr th:only-of-type {\n",
       "        vertical-align: middle;\n",
       "    }\n",
       "\n",
       "    .dataframe tbody tr th {\n",
       "        vertical-align: top;\n",
       "    }\n",
       "\n",
       "    .dataframe thead th {\n",
       "        text-align: right;\n",
       "    }\n",
       "</style>\n",
       "<table border=\"1\" class=\"dataframe\">\n",
       "  <thead>\n",
       "    <tr style=\"text-align: right;\">\n",
       "      <th></th>\n",
       "      <th>price</th>\n",
       "      <th>year</th>\n",
       "      <th>manufacturer</th>\n",
       "      <th>model</th>\n",
       "      <th>condition</th>\n",
       "      <th>cylinders</th>\n",
       "      <th>fuel</th>\n",
       "      <th>odometer</th>\n",
       "      <th>title_status</th>\n",
       "      <th>transmission</th>\n",
       "      <th>vin</th>\n",
       "      <th>drive</th>\n",
       "      <th>size</th>\n",
       "      <th>type</th>\n",
       "      <th>paint_color</th>\n",
       "      <th>county</th>\n",
       "      <th>state</th>\n",
       "    </tr>\n",
       "  </thead>\n",
       "  <tbody>\n",
       "    <tr>\n",
       "      <th>0</th>\n",
       "      <td>6995</td>\n",
       "      <td>2000.0</td>\n",
       "      <td>gmc</td>\n",
       "      <td>new sierra 1500</td>\n",
       "      <td>excellent</td>\n",
       "      <td>8 cylinders</td>\n",
       "      <td>gas</td>\n",
       "      <td>167783.0</td>\n",
       "      <td>clean</td>\n",
       "      <td>automatic</td>\n",
       "      <td>1GTEK19T3YE366021</td>\n",
       "      <td>4wd</td>\n",
       "      <td>NaN</td>\n",
       "      <td>NaN</td>\n",
       "      <td>red</td>\n",
       "      <td>NaN</td>\n",
       "      <td>mn</td>\n",
       "    </tr>\n",
       "    <tr>\n",
       "      <th>1</th>\n",
       "      <td>8750</td>\n",
       "      <td>2013.0</td>\n",
       "      <td>hyundai</td>\n",
       "      <td>sonata</td>\n",
       "      <td>excellent</td>\n",
       "      <td>4 cylinders</td>\n",
       "      <td>gas</td>\n",
       "      <td>90821.0</td>\n",
       "      <td>clean</td>\n",
       "      <td>automatic</td>\n",
       "      <td>NaN</td>\n",
       "      <td>fwd</td>\n",
       "      <td>NaN</td>\n",
       "      <td>NaN</td>\n",
       "      <td>grey</td>\n",
       "      <td>NaN</td>\n",
       "      <td>mn</td>\n",
       "    </tr>\n",
       "    <tr>\n",
       "      <th>2</th>\n",
       "      <td>10900</td>\n",
       "      <td>2013.0</td>\n",
       "      <td>toyota</td>\n",
       "      <td>prius</td>\n",
       "      <td>good</td>\n",
       "      <td>4 cylinders</td>\n",
       "      <td>hybrid</td>\n",
       "      <td>92800.0</td>\n",
       "      <td>clean</td>\n",
       "      <td>automatic</td>\n",
       "      <td>NaN</td>\n",
       "      <td>fwd</td>\n",
       "      <td>NaN</td>\n",
       "      <td>NaN</td>\n",
       "      <td>blue</td>\n",
       "      <td>NaN</td>\n",
       "      <td>ct</td>\n",
       "    </tr>\n",
       "    <tr>\n",
       "      <th>3</th>\n",
       "      <td>12500</td>\n",
       "      <td>2003.0</td>\n",
       "      <td>mitsubishi</td>\n",
       "      <td>lancer</td>\n",
       "      <td>good</td>\n",
       "      <td>4 cylinders</td>\n",
       "      <td>gas</td>\n",
       "      <td>NaN</td>\n",
       "      <td>clean</td>\n",
       "      <td>manual</td>\n",
       "      <td>NaN</td>\n",
       "      <td>4wd</td>\n",
       "      <td>mid-size</td>\n",
       "      <td>sedan</td>\n",
       "      <td>grey</td>\n",
       "      <td>NaN</td>\n",
       "      <td>nm</td>\n",
       "    </tr>\n",
       "    <tr>\n",
       "      <th>4</th>\n",
       "      <td>16995</td>\n",
       "      <td>2007.0</td>\n",
       "      <td>gmc</td>\n",
       "      <td>sierra classic 2500hd</td>\n",
       "      <td>good</td>\n",
       "      <td>8 cylinders</td>\n",
       "      <td>diesel</td>\n",
       "      <td>254217.0</td>\n",
       "      <td>clean</td>\n",
       "      <td>automatic</td>\n",
       "      <td>1GTHK23D57F102022</td>\n",
       "      <td>4wd</td>\n",
       "      <td>full-size</td>\n",
       "      <td>truck</td>\n",
       "      <td>white</td>\n",
       "      <td>NaN</td>\n",
       "      <td>mn</td>\n",
       "    </tr>\n",
       "  </tbody>\n",
       "</table>\n",
       "</div>"
      ],
      "text/plain": [
       "   price    year manufacturer                  model  condition    cylinders  \\\n",
       "0   6995  2000.0          gmc        new sierra 1500  excellent  8 cylinders   \n",
       "1   8750  2013.0      hyundai                 sonata  excellent  4 cylinders   \n",
       "2  10900  2013.0       toyota                  prius       good  4 cylinders   \n",
       "3  12500  2003.0   mitsubishi                 lancer       good  4 cylinders   \n",
       "4  16995  2007.0          gmc  sierra classic 2500hd       good  8 cylinders   \n",
       "\n",
       "     fuel  odometer title_status transmission                vin drive  \\\n",
       "0     gas  167783.0        clean    automatic  1GTEK19T3YE366021   4wd   \n",
       "1     gas   90821.0        clean    automatic                NaN   fwd   \n",
       "2  hybrid   92800.0        clean    automatic                NaN   fwd   \n",
       "3     gas       NaN        clean       manual                NaN   4wd   \n",
       "4  diesel  254217.0        clean    automatic  1GTHK23D57F102022   4wd   \n",
       "\n",
       "        size   type paint_color  county state  \n",
       "0        NaN    NaN         red     NaN    mn  \n",
       "1        NaN    NaN        grey     NaN    mn  \n",
       "2        NaN    NaN        blue     NaN    ct  \n",
       "3   mid-size  sedan        grey     NaN    nm  \n",
       "4  full-size  truck       white     NaN    mn  "
      ]
     },
     "execution_count": 20,
     "metadata": {},
     "output_type": "execute_result"
    }
   ],
   "source": [
    "data=data.drop(columns=['url','region','id', 'region_url', 'image_url', 'description', 'lat', 'long'])\n",
    "data.head()"
   ]
  },
  {
   "cell_type": "code",
   "execution_count": 21,
   "metadata": {},
   "outputs": [
    {
     "data": {
      "image/png": "[encoded data removed]",
      "text/plain": [
       "<Figure size 864x864 with 2 Axes>"
      ]
     },
     "metadata": {
      "needs_background": "light"
     },
     "output_type": "display_data"
    }
   ],
   "source": [
    "# Display the missing values\n",
    "plt.figure(figsize=(12,12))\n",
    "plt.title(\"Missing values for each column\")\n",
    "sns.heatmap(data.isnull())\n",
    "plt.show()"
   ]
  },
  {
   "cell_type": "code",
   "execution_count": 22,
   "metadata": {},
   "outputs": [
    {
     "data": {
      "text/plain": [
       "price                0\n",
       "year             87859\n",
       "manufacturer    101543\n",
       "model            90498\n",
       "condition       221112\n",
       "cylinders       203545\n",
       "fuel             89135\n",
       "odometer        138064\n",
       "title_status     88532\n",
       "transmission     88211\n",
       "vin             221032\n",
       "drive           175401\n",
       "size            293043\n",
       "type            168327\n",
       "paint_color     182335\n",
       "county          386487\n",
       "state                0\n",
       "dtype: int64"
      ]
     },
     "execution_count": 22,
     "metadata": {},
     "output_type": "execute_result"
    }
   ],
   "source": [
    "data.isnull().sum()"
   ]
  },
  {
   "cell_type": "markdown",
   "metadata": {},
   "source": [
    "If the coumns have more than 50% missing then drop. "
   ]
  },
  {
   "cell_type": "code",
   "execution_count": 23,
   "metadata": {},
   "outputs": [
    {
     "data": {
      "text/plain": [
       "(386487, 12)"
      ]
     },
     "execution_count": 23,
     "metadata": {},
     "output_type": "execute_result"
    }
   ],
   "source": [
    "more_than_50 = data.columns.where((data.isnull().sum()/len(data) * 100) >= 50).dropna()\n",
    "data = data.drop(columns = more_than_50)\n",
    "data.shape"
   ]
  },
  {
   "cell_type": "markdown",
   "metadata": {},
   "source": [
    "Since we still have a lot of data to work with, I am just dropping the missing variables instead of imputing them."
   ]
  },
  {
   "cell_type": "code",
   "execution_count": 24,
   "metadata": {},
   "outputs": [],
   "source": [
    "data_clean=data.dropna()"
   ]
  },
  {
   "cell_type": "code",
   "execution_count": 25,
   "metadata": {},
   "outputs": [
    {
     "data": {
      "text/plain": [
       "(137848, 12)"
      ]
     },
     "execution_count": 25,
     "metadata": {},
     "output_type": "execute_result"
    }
   ],
   "source": [
    "data_clean.shape"
   ]
  },
  {
   "cell_type": "code",
   "execution_count": 29,
   "metadata": {},
   "outputs": [
    {
     "data": {
      "text/plain": [
       "Index(['price', 'year', 'manufacturer', 'model', 'fuel', 'odometer',\n",
       "       'title_status', 'transmission', 'drive', 'type', 'paint_color',\n",
       "       'state'],\n",
       "      dtype='object')"
      ]
     },
     "execution_count": 29,
     "metadata": {},
     "output_type": "execute_result"
    }
   ],
   "source": [
    "data=data_clean\n",
    "data.columns #what columns we are left with"
   ]
  },
  {
   "cell_type": "code",
   "execution_count": 27,
   "metadata": {},
   "outputs": [
    {
     "name": "stdout",
     "output_type": "stream",
     "text": [
      "<class 'pandas.core.frame.DataFrame'>\n",
      "Int64Index: 137848 entries, 4 to 423856\n",
      "Data columns (total 12 columns):\n",
      " #   Column        Non-Null Count   Dtype  \n",
      "---  ------        --------------   -----  \n",
      " 0   price         137848 non-null  int64  \n",
      " 1   year          137848 non-null  float64\n",
      " 2   manufacturer  137848 non-null  object \n",
      " 3   model         137848 non-null  object \n",
      " 4   fuel          137848 non-null  object \n",
      " 5   odometer      137848 non-null  float64\n",
      " 6   title_status  137848 non-null  object \n",
      " 7   transmission  137848 non-null  object \n",
      " 8   drive         137848 non-null  object \n",
      " 9   type          137848 non-null  object \n",
      " 10  paint_color   137848 non-null  object \n",
      " 11  state         137848 non-null  object \n",
      "dtypes: float64(2), int64(1), object(9)\n",
      "memory usage: 13.7+ MB\n"
     ]
    }
   ],
   "source": [
    "data.info()"
   ]
  },
  {
   "cell_type": "code",
   "execution_count": 28,
   "metadata": {},
   "outputs": [
    {
     "data": {
      "text/html": [
       "<div>\n",
       "<style scoped>\n",
       "    .dataframe tbody tr th:only-of-type {\n",
       "        vertical-align: middle;\n",
       "    }\n",
       "\n",
       "    .dataframe tbody tr th {\n",
       "        vertical-align: top;\n",
       "    }\n",
       "\n",
       "    .dataframe thead th {\n",
       "        text-align: right;\n",
       "    }\n",
       "</style>\n",
       "<table border=\"1\" class=\"dataframe\">\n",
       "  <thead>\n",
       "    <tr style=\"text-align: right;\">\n",
       "      <th></th>\n",
       "      <th>price</th>\n",
       "      <th>year</th>\n",
       "      <th>manufacturer</th>\n",
       "      <th>model</th>\n",
       "      <th>fuel</th>\n",
       "      <th>odometer</th>\n",
       "      <th>title_status</th>\n",
       "      <th>transmission</th>\n",
       "      <th>drive</th>\n",
       "      <th>type</th>\n",
       "      <th>paint_color</th>\n",
       "      <th>state</th>\n",
       "    </tr>\n",
       "  </thead>\n",
       "  <tbody>\n",
       "    <tr>\n",
       "      <th>4</th>\n",
       "      <td>16995</td>\n",
       "      <td>2007.0</td>\n",
       "      <td>gmc</td>\n",
       "      <td>sierra classic 2500hd</td>\n",
       "      <td>diesel</td>\n",
       "      <td>254217.0</td>\n",
       "      <td>clean</td>\n",
       "      <td>automatic</td>\n",
       "      <td>4wd</td>\n",
       "      <td>truck</td>\n",
       "      <td>white</td>\n",
       "      <td>mn</td>\n",
       "    </tr>\n",
       "    <tr>\n",
       "      <th>5</th>\n",
       "      <td>13995</td>\n",
       "      <td>2012.0</td>\n",
       "      <td>ford</td>\n",
       "      <td>f-150</td>\n",
       "      <td>gas</td>\n",
       "      <td>188406.0</td>\n",
       "      <td>clean</td>\n",
       "      <td>automatic</td>\n",
       "      <td>4wd</td>\n",
       "      <td>truck</td>\n",
       "      <td>grey</td>\n",
       "      <td>mn</td>\n",
       "    </tr>\n",
       "    <tr>\n",
       "      <th>6</th>\n",
       "      <td>7995</td>\n",
       "      <td>2010.0</td>\n",
       "      <td>chevrolet</td>\n",
       "      <td>equinox</td>\n",
       "      <td>gas</td>\n",
       "      <td>108124.0</td>\n",
       "      <td>clean</td>\n",
       "      <td>automatic</td>\n",
       "      <td>4wd</td>\n",
       "      <td>SUV</td>\n",
       "      <td>grey</td>\n",
       "      <td>mn</td>\n",
       "    </tr>\n",
       "    <tr>\n",
       "      <th>7</th>\n",
       "      <td>8995</td>\n",
       "      <td>2011.0</td>\n",
       "      <td>chevrolet</td>\n",
       "      <td>traverse</td>\n",
       "      <td>gas</td>\n",
       "      <td>178054.0</td>\n",
       "      <td>clean</td>\n",
       "      <td>automatic</td>\n",
       "      <td>4wd</td>\n",
       "      <td>SUV</td>\n",
       "      <td>white</td>\n",
       "      <td>mn</td>\n",
       "    </tr>\n",
       "    <tr>\n",
       "      <th>8</th>\n",
       "      <td>10995</td>\n",
       "      <td>2014.0</td>\n",
       "      <td>ford</td>\n",
       "      <td>explorer</td>\n",
       "      <td>gas</td>\n",
       "      <td>170259.0</td>\n",
       "      <td>clean</td>\n",
       "      <td>automatic</td>\n",
       "      <td>4wd</td>\n",
       "      <td>SUV</td>\n",
       "      <td>white</td>\n",
       "      <td>mn</td>\n",
       "    </tr>\n",
       "  </tbody>\n",
       "</table>\n",
       "</div>"
      ],
      "text/plain": [
       "   price    year manufacturer                  model    fuel  odometer  \\\n",
       "4  16995  2007.0          gmc  sierra classic 2500hd  diesel  254217.0   \n",
       "5  13995  2012.0         ford                  f-150     gas  188406.0   \n",
       "6   7995  2010.0    chevrolet                equinox     gas  108124.0   \n",
       "7   8995  2011.0    chevrolet               traverse     gas  178054.0   \n",
       "8  10995  2014.0         ford               explorer     gas  170259.0   \n",
       "\n",
       "  title_status transmission drive   type paint_color state  \n",
       "4        clean    automatic   4wd  truck       white    mn  \n",
       "5        clean    automatic   4wd  truck        grey    mn  \n",
       "6        clean    automatic   4wd    SUV        grey    mn  \n",
       "7        clean    automatic   4wd    SUV       white    mn  \n",
       "8        clean    automatic   4wd    SUV       white    mn  "
      ]
     },
     "execution_count": 28,
     "metadata": {},
     "output_type": "execute_result"
    }
   ],
   "source": [
    "data.head()"
   ]
  },
  {
   "cell_type": "code",
   "execution_count": null,
   "metadata": {},
   "outputs": [],
   "source": []
  }
 ],
 "metadata": {
  "kernelspec": {
   "display_name": "Python 3",
   "language": "python",
   "name": "python3"
  },
  "language_info": {
   "codemirror_mode": {
    "name": "ipython",
    "version": 3
   },
   "file_extension": ".py",
   "mimetype": "text/x-python",
   "name": "python",
   "nbconvert_exporter": "python",
   "pygments_lexer": "ipython3",
   "version": "3.8.3"
  }
 },
 "nbformat": 4,
 "nbformat_minor": 2
}
